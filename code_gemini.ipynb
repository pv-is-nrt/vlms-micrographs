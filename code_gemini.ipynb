{
 "cells": [
  {
   "cell_type": "code",
   "execution_count": 41,
   "id": "ebd34161-1353-4bb2-93dc-c972ec809150",
   "metadata": {},
   "outputs": [],
   "source": [
    "import pathlib\n",
    "import textwrap\n",
    "\n",
    "import numpy as np\n",
    "import pickle\n",
    "from PIL import Image\n",
    "\n",
    "from IPython.display import display\n",
    "from IPython.display import Markdown\n",
    "\n",
    "from matplotlib.pyplot import imshow\n",
    "\n",
    "from sklearn.metrics import roc_auc_score\n",
    "import re\n",
    "import PIL.Image\n",
    "import json\n",
    "import os\n",
    "import pandas as pd\n",
    "\n",
    "\n",
    "def to_markdown(text):\n",
    "  text = text.replace('•', '  *')\n",
    "  return Markdown(textwrap.indent(text, '> ', predicate=lambda _: True))\n",
    "\n",
    "import google.generativeai as genai"
   ]
  },
  {
   "cell_type": "code",
   "execution_count": 3,
   "id": "0663d081-f0de-4a9e-8e2b-1beb9db5fa3c",
   "metadata": {},
   "outputs": [],
   "source": [
    "genai.configure(api_key='YOUR_API_KEY')"
   ]
  },
  {
   "cell_type": "code",
   "execution_count": 4,
   "id": "7a6ef0a9-f80c-405d-aafd-032617ac75cb",
   "metadata": {},
   "outputs": [
    {
     "name": "stdout",
     "output_type": "stream",
     "text": [
      "models/gemini-1.0-pro\n",
      "models/gemini-1.0-pro-001\n",
      "models/gemini-1.0-pro-latest\n",
      "models/gemini-1.0-pro-vision-latest\n",
      "models/gemini-1.5-pro-latest\n",
      "models/gemini-pro\n",
      "models/gemini-pro-vision\n"
     ]
    }
   ],
   "source": [
    "for m in genai.list_models():\n",
    "  if 'generateContent' in m.supported_generation_methods:\n",
    "    print(m.name)"
   ]
  },
  {
   "cell_type": "code",
   "execution_count": 5,
   "id": "c6b08a4c-ee81-488e-a240-7c0e5c5a4927",
   "metadata": {},
   "outputs": [],
   "source": [
    "safety_settings = [{\"category\": \"HARM_CATEGORY_SEXUALLY_EXPLICIT\", \"threshold\": \"BLOCK_NONE\"},\n",
    "                   {\"category\": \"HARM_CATEGORY_HATE_SPEECH\", \"threshold\": \"BLOCK_NONE\"}, \n",
    "                   {\"category\": \"HARM_CATEGORY_HARASSMENT\", \"threshold\": \"BLOCK_NONE\"},\n",
    "                   {\"category\": \"HARM_CATEGORY_DANGEROUS_CONTENT\", \"threshold\": \"BLOCK_NONE\"}]\n",
    "\n",
    "generation_settings = {\"top_p\": 0.7, \"max_output_tokens\": 1024}"
   ]
  },
  {
   "cell_type": "code",
   "execution_count": 6,
   "id": "2b164c54-4d74-4a39-be57-0b2f77e4dacd",
   "metadata": {},
   "outputs": [],
   "source": [
    "\n",
    "# model = genai.GenerativeModel('gemini-pro-vision', generation_config = generation_settings, safety_settings = safety_settings)\n",
    "model = genai.GenerativeModel('gemini-pro-vision')"
   ]
  },
  {
   "cell_type": "code",
   "execution_count": 7,
   "id": "47694176-e7aa-4a0d-bf63-1a48dc0a8520",
   "metadata": {},
   "outputs": [],
   "source": [
    "all_files = []\n",
    "\n",
    "img_dir = '/home/username/microscopy/NFFA/'\n",
    "\n",
    "for path, subdirs, files in os.walk(img_dir):\n",
    "    for name in files:\n",
    "        all_files.append(os.path.join(path, name))"
   ]
  },
  {
   "cell_type": "code",
   "execution_count": null,
   "id": "99431791-bd4a-445a-92f2-14ad5bead078",
   "metadata": {},
   "outputs": [],
   "source": [
    "all_files[-1]"
   ]
  },
  {
   "cell_type": "code",
   "execution_count": 9,
   "id": "1b970f12-699d-42c6-9f24-b924fced8106",
   "metadata": {},
   "outputs": [],
   "source": [
    "last_processed_idx = -1\n",
    "unprocessed_ids = []\n",
    "responses = []"
   ]
  },
  {
   "cell_type": "code",
   "execution_count": null,
   "id": "314c5184-4824-484a-9d1a-897ddde127f7",
   "metadata": {
    "scrolled": true
   },
   "outputs": [],
   "source": [
    "for idx, file in enumerate(all_files):\n",
    "    if idx <= last_processed_idx:\n",
    "        continue\n",
    "    img = PIL.Image.open(file)\n",
    "    print(f\"Processing image: {file}\")\n",
    "    prompt = \"\"\"INSERT YOUR PROMPT HERE. Refer to the appendix in the paper for example prompts.\"\"\"\n",
    "    response = model.generate_content([img, prompt])\n",
    "    try:\n",
    "        answer = response.text\n",
    "    except Exception as e:\n",
    "        unprocessed_ids.append(path)\n",
    "        answer = \"MODEL ERROR\"\n",
    "    print(answer)\n",
    "    print()\n",
    "    responses.append(answer)\n",
    "    last_processed_idx = idx\n",
    "    "
   ]
  },
  {
   "cell_type": "code",
   "execution_count": null,
   "id": "89c3cbdd-4a83-4e91-953a-4b4cba9cc971",
   "metadata": {},
   "outputs": [],
   "source": [
    "response.candidates"
   ]
  },
  {
   "cell_type": "code",
   "execution_count": null,
   "id": "e8acd2e6-d01e-4563-a03f-3f1a31a7cafb",
   "metadata": {},
   "outputs": [],
   "source": [
    "response.prompt_feedback"
   ]
  },
  {
   "cell_type": "code",
   "execution_count": 16,
   "id": "ad512026-da42-4e1a-8f5c-cdd55f9784b6",
   "metadata": {},
   "outputs": [
    {
     "data": {
      "text/plain": [
       "38"
      ]
     },
     "execution_count": 16,
     "metadata": {},
     "output_type": "execute_result"
    }
   ],
   "source": [
    "len(unprocessed_ids)"
   ]
  },
  {
   "cell_type": "code",
   "execution_count": 17,
   "id": "10cdf905-df36-4423-809f-30150a299504",
   "metadata": {},
   "outputs": [],
   "source": [
    "with open('results_nffa_full_10classes_prediction_trial_1.pkl', 'wb') as f:\n",
    "    pickle.dump({\"responses\": responses, \"unprocessed_ids\": unprocessed_ids}, f)"
   ]
  },
  {
   "cell_type": "code",
   "execution_count": 18,
   "id": "03939acb-c035-4d47-9085-21f8b4fceecb",
   "metadata": {},
   "outputs": [],
   "source": [
    "with open('results_nffa_full_10classes_prediction_trial_1.pkl', 'rb') as f:\n",
    "    data = pickle.load(f)\n",
    "    responses = data['responses']"
   ]
  },
  {
   "cell_type": "code",
   "execution_count": 19,
   "id": "06df00a1-2254-4064-8d32-bd825209da87",
   "metadata": {},
   "outputs": [],
   "source": [
    "counts = [(elem, sum(np.array(responses) == elem)) for elem in np.unique(np.array(responses))]"
   ]
  },
  {
   "cell_type": "code",
   "execution_count": 21,
   "id": "9a1842fb-473b-4a7a-889a-4907552ce4f6",
   "metadata": {},
   "outputs": [
    {
     "data": {
      "text/plain": [
       "38"
      ]
     },
     "execution_count": 21,
     "metadata": {},
     "output_type": "execute_result"
    }
   ],
   "source": [
    "len(unprocessed_ids)"
   ]
  },
  {
   "cell_type": "code",
   "execution_count": null,
   "id": "e826fd3f-8aa9-4e79-a17d-ff1125a2392c",
   "metadata": {},
   "outputs": [],
   "source": [
    "folder_id_map = {\"Biological\": 1,\n",
    "                \"Fibres\": 2,\n",
    "                \"Films_Coated_Surface\": 3,\n",
    "                \"MEMS_devices_and_electrodes\": 4,\n",
    "                \"Nanowires\": 5,\n",
    "                \"Particles\": 6,\n",
    "                \"Patterned_surface\": 7,\n",
    "                \"Porous_Sponge\": 8,\n",
    "                \"Powder\": 9,\n",
    "                \"Tips\": 10}\n",
    "\n",
    "class_id_map = {\"biological\": 1,\n",
    "               \"fibers\": 2,\n",
    "               \"coated film\": 3,\n",
    "               \"mems\": 4,\n",
    "               \"nanowire\": 5,\n",
    "               \"particles\": 6,\n",
    "               \"patterned surface\": 7,\n",
    "               \"porous sponge\": 8,\n",
    "               \"powder\": 9,\n",
    "               \"tips\": 10}\n",
    "\n",
    "actuals = []\n",
    "predictions = []\n",
    "\n",
    "for idx, file in enumerate(all_files):\n",
    "    extracted_folder = file.split(\"/\")[-2]\n",
    "    actual_class_id = folder_id_map[extracted_folder]\n",
    "    actuals.append(actual_class_id)\n",
    "    \n",
    "    pred_class_id = -1\n",
    "    for class_name in class_id_map.keys():\n",
    "        if class_name in responses[idx].lower():\n",
    "            pred_class_id = class_id_map[class_name]\n",
    "            break\n",
    "    if pred_class_id == -1:\n",
    "        print(responses[idx])\n",
    "    predictions.append(pred_class_id)"
   ]
  },
  {
   "cell_type": "code",
   "execution_count": 34,
   "id": "dba30416-dce5-4d87-8bb4-9e0728c7be26",
   "metadata": {},
   "outputs": [
    {
     "data": {
      "text/plain": [
       "21169"
      ]
     },
     "execution_count": 34,
     "metadata": {},
     "output_type": "execute_result"
    }
   ],
   "source": [
    "len(actuals)"
   ]
  },
  {
   "cell_type": "code",
   "execution_count": 35,
   "id": "11f9127e-2eeb-4ed3-a6a3-aa9606f1bf56",
   "metadata": {},
   "outputs": [
    {
     "data": {
      "text/plain": [
       "21169"
      ]
     },
     "execution_count": 35,
     "metadata": {},
     "output_type": "execute_result"
    }
   ],
   "source": [
    "len(predictions)"
   ]
  },
  {
   "cell_type": "code",
   "execution_count": 36,
   "id": "6d450086-8ba8-4603-b10a-5e1192715287",
   "metadata": {},
   "outputs": [],
   "source": [
    "accuracy = (np.array(actuals) == np.array(predictions)).sum()/len(actuals)"
   ]
  },
  {
   "cell_type": "code",
   "execution_count": 37,
   "id": "30354bc1-ddec-4bed-b891-bbdd21b36421",
   "metadata": {},
   "outputs": [
    {
     "data": {
      "text/plain": [
       "0.5663942557513345"
      ]
     },
     "execution_count": 37,
     "metadata": {},
     "output_type": "execute_result"
    }
   ],
   "source": [
    "accuracy"
   ]
  },
  {
   "cell_type": "code",
   "execution_count": 38,
   "id": "d35116c8-c6e3-4a3c-867c-c85786272fb3",
   "metadata": {},
   "outputs": [
    {
     "data": {
      "text/plain": [
       "(array([ 1226,  1313,  3579,  4409,  4589,  4909,  4993,  5890,  6122,\n",
       "         6711,  6731,  6855,  7700,  7996,  8732,  8770,  9336,  9802,\n",
       "         9974, 10140, 10354, 11367, 11693, 11792, 13538, 13606, 16464,\n",
       "        16852, 16973, 17140, 17300, 17317, 17421, 17796, 17872, 19368,\n",
       "        19582, 19703, 20149, 20620, 20865, 21015, 21151]),)"
      ]
     },
     "execution_count": 38,
     "metadata": {},
     "output_type": "execute_result"
    }
   ],
   "source": [
    "np.where(np.array(predictions) == -1)"
   ]
  },
  {
   "cell_type": "code",
   "execution_count": null,
   "id": "b14e9b67-4ec0-475d-b8c2-afb89b5f596e",
   "metadata": {},
   "outputs": [],
   "source": [
    "responses[41]"
   ]
  },
  {
   "cell_type": "code",
   "execution_count": 42,
   "id": "b1a6a7b7-2726-4563-a537-4e6aef6bc55d",
   "metadata": {},
   "outputs": [],
   "source": [
    "data = {'actual_class': actuals, 'predicted_class': predictions}\n",
    "df = pd.DataFrame(data)"
   ]
  },
  {
   "cell_type": "code",
   "execution_count": 43,
   "id": "e9948e3e-c220-4b92-bc91-28fe694cc6f4",
   "metadata": {},
   "outputs": [],
   "source": [
    "df.to_csv(\"gemini_full_NFFA.csv\")"
   ]
  }
 ],
 "metadata": {
  "kernelspec": {
   "display_name": "Python 3 (ipykernel)",
   "language": "python",
   "name": "python3"
  },
  "language_info": {
   "codemirror_mode": {
    "name": "ipython",
    "version": 3
   },
   "file_extension": ".py",
   "mimetype": "text/x-python",
   "name": "python",
   "nbconvert_exporter": "python",
   "pygments_lexer": "ipython3",
   "version": "3.9.18"
  }
 },
 "nbformat": 4,
 "nbformat_minor": 5
}
